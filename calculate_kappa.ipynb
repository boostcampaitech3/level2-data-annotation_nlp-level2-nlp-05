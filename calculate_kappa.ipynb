{
  "nbformat": 4,
  "nbformat_minor": 0,
  "metadata": {
    "colab": {
      "name": "calculate_kappa.ipynb",
      "provenance": [],
      "collapsed_sections": []
    },
    "kernelspec": {
      "name": "python3",
      "display_name": "Python 3"
    },
    "language_info": {
      "name": "python"
    }
  },
  "cells": [
    {
      "cell_type": "code",
      "execution_count": 1,
      "metadata": {
        "id": "sgHYItZRYKQa"
      },
      "outputs": [],
      "source": [
        "def checkInput(rate, n):\n",
        "    \"\"\" \n",
        "    Check correctness of the input matrix\n",
        "    @param rate - ratings matrix\n",
        "    @return n - number of raters\n",
        "    @throws AssertionError \n",
        "    \"\"\"\n",
        "    N = len(rate)\n",
        "    k = len(rate[0])\n",
        "    assert all(len(rate[i]) == k for i in range(k)), \"Row length != #categories)\"\n",
        "    assert all(isinstance(rate[i][j], int) for i in range(N) for j in range(k)), \"Element not integer\" \n",
        "    assert all(sum(row) == n for row in rate), \"Sum of ratings != #raters)\"\n",
        "\n",
        "def fleissKappa(rate,n):\n",
        "    \"\"\" \n",
        "    Computes the Kappa value\n",
        "    @param rate - ratings matrix containing number of ratings for each subject per category \n",
        "    [size - N X k where N = #subjects and k = #categories]\n",
        "    @param n - number of raters   \n",
        "    @return fleiss' kappa\n",
        "    \"\"\"\n",
        "\n",
        "    N = len(rate)\n",
        "    k = len(rate[0])\n",
        "    print(\"#raters = \", n, \", #subjects = \", N, \", #categories = \", k)\n",
        "    checkInput(rate, n)\n",
        "\n",
        "    #mean of the extent to which raters agree for the ith subject \n",
        "    PA = sum([(sum([i**2 for i in row])- n) / (n * (n - 1)) for row in rate])/N\n",
        "    print(\"PA = \", PA)\n",
        "    \n",
        "    # mean of squares of proportion of all assignments which were to jth category\n",
        "    PE = sum([j**2 for j in [sum([rows[i] for rows in rate])/(N*n) for i in range(k)]])\n",
        "    print(\"PE =\", PE)\n",
        "    \n",
        "    kappa = -float(\"inf\")\n",
        "    try:\n",
        "        kappa = (PA - PE) / (1 - PE)\n",
        "        kappa = float(\"{:.3f}\".format(kappa))\n",
        "    except ZeroDivisionError:\n",
        "        print(\"Expected agreement = 1\")\n",
        "\n",
        "    print(\"Fleiss' Kappa =\", kappa)\n",
        "    \n",
        "    return kappa"
      ]
    },
    {
      "cell_type": "code",
      "source": [
        "import pandas as pd\n",
        "import numpy as np\n",
        "\n",
        "data = pd.read_excel('for_fleisskappa.xlsx')\n",
        "data = data.to_numpy()\n",
        "data"
      ],
      "metadata": {
        "colab": {
          "base_uri": "https://localhost:8080/"
        },
        "id": "D59W2v3cYqs3",
        "outputId": "acdc371a-dcaf-4d9c-e241-17925594d667"
      },
      "execution_count": 26,
      "outputs": [
        {
          "output_type": "execute_result",
          "data": {
            "text/plain": [
              "array([[0, 0, 0, ..., 0, 0, 0],\n",
              "       [0, 4, 0, ..., 0, 0, 1],\n",
              "       [0, 5, 0, ..., 0, 0, 0],\n",
              "       ...,\n",
              "       [0, 0, 0, ..., 5, 0, 0],\n",
              "       [0, 0, 0, ..., 5, 0, 0],\n",
              "       [0, 0, 0, ..., 0, 0, 0]])"
            ]
          },
          "metadata": {},
          "execution_count": 26
        }
      ]
    },
    {
      "cell_type": "code",
      "source": [
        "kappa = fleissKappa(data.tolist(), 5)"
      ],
      "metadata": {
        "colab": {
          "base_uri": "https://localhost:8080/"
        },
        "id": "wUBPJO5vZArZ",
        "outputId": "c7a24af9-0699-4b52-92a0-e27b40e8d935"
      },
      "execution_count": 27,
      "outputs": [
        {
          "output_type": "stream",
          "name": "stdout",
          "text": [
            "#raters =  5 , #subjects =  123 , #categories =  12\n",
            "PA =  0.9447154471544715\n",
            "PE = 0.11919095776323618\n",
            "Fleiss' Kappa = 0.937\n"
          ]
        }
      ]
    }
  ]
}